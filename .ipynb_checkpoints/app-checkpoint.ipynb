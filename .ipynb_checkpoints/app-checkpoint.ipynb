{
 "cells": [
  {
   "cell_type": "code",
   "execution_count": 3,
   "id": "dce12842",
   "metadata": {},
   "outputs": [
    {
     "name": "stderr",
     "output_type": "stream",
     "text": [
      "2022-08-01 20:02:29.018 INFO    numexpr.utils: NumExpr defaulting to 8 threads.\n",
      "2022-08-01 20:02:32.163 \n",
      "  \u001b[33m\u001b[1mWarning:\u001b[0m to view this Streamlit app on a browser, run it with the following\n",
      "  command:\n",
      "\n",
      "    streamlit run C:\\Users\\LENOVO\\anaconda3_\\lib\\site-packages\\ipykernel_launcher.py [ARGUMENTS]\n"
     ]
    }
   ],
   "source": [
    "import pickle\n",
    "import string\n",
    "import streamlit as st\n",
    "import webbrowser\n",
    "\n",
    "global Lrdetect_Model\n",
    "\n",
    "LrdetectFile = open('model.pckl','rb')\n",
    "Lrdetect_Model = pickle.load(LrdetectFile)\n",
    "LrdetectFile.close()\n",
    "st.title(\"Language Detection Tool\")\n",
    "input_test = st.text_input(\"provide your text input here\", 'Hello my name is jay ')\n",
    "\n",
    "button_clicked = st.button(\"Get Language Name\")\n",
    "if button_clicked:\n",
    "    st.text(Lrdetect_Model.predict([input_test]))"
   ]
  },
  {
   "cell_type": "code",
   "execution_count": null,
   "id": "cbc7999a",
   "metadata": {},
   "outputs": [],
   "source": []
  },
  {
   "cell_type": "code",
   "execution_count": null,
   "id": "ad25961c",
   "metadata": {},
   "outputs": [],
   "source": []
  }
 ],
 "metadata": {
  "kernelspec": {
   "display_name": "Python 3 (ipykernel)",
   "language": "python",
   "name": "python3"
  },
  "language_info": {
   "codemirror_mode": {
    "name": "ipython",
    "version": 3
   },
   "file_extension": ".py",
   "mimetype": "text/x-python",
   "name": "python",
   "nbconvert_exporter": "python",
   "pygments_lexer": "ipython3",
   "version": "3.9.7"
  }
 },
 "nbformat": 4,
 "nbformat_minor": 5
}
