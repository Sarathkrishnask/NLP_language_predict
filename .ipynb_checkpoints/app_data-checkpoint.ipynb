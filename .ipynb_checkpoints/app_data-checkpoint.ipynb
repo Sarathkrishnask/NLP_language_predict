{
 "cells": [
  {
   "cell_type": "code",
   "execution_count": 2,
   "id": "dce12842",
   "metadata": {},
   "outputs": [
    {
     "ename": "SyntaxError",
     "evalue": "invalid syntax (Temp/ipykernel_14804/1191985846.py, line 12)",
     "output_type": "error",
     "traceback": [
      "\u001b[1;36m  File \u001b[1;32m\"C:\\Users\\LENOVO\\AppData\\Local\\Temp/ipykernel_14804/1191985846.py\"\u001b[1;36m, line \u001b[1;32m12\u001b[0m\n\u001b[1;33m    input_test = st.text_input(\"provide your text input here\", 'Hello my name is jay ')cmd\u001b[0m\n\u001b[1;37m                                                                                       ^\u001b[0m\n\u001b[1;31mSyntaxError\u001b[0m\u001b[1;31m:\u001b[0m invalid syntax\n"
     ]
    }
   ],
   "source": [
    "import pickle\n",
    "import string\n",
    "import streamlit as st\n",
    "import webbrowser\n",
    "\n",
    "global Lrdetect_Model\n",
    "\n",
    "LrdetectFile = open('model.pckl','rb')\n",
    "Lrdetect_Model = pickle.load(LrdetectFile)\n",
    "LrdetectFile.close()\n",
    "st.title(\"Language Detection Tool\")\n",
    "input_test = st.text_input(\"provide your text input here\", 'Hello my name is jay ')\n",
    "\n",
    "button_clicked = st.button(\"Get Language Name\")\n",
    "if button_clicked:\n",
    "    st.text(Lrdetect_Model.predict([input_test]))"
   ]
  },
  {
   "cell_type": "code",
   "execution_count": null,
   "id": "cbc7999a",
   "metadata": {},
   "outputs": [],
   "source": []
  },
  {
   "cell_type": "code",
   "execution_count": null,
   "id": "5180432f",
   "metadata": {},
   "outputs": [],
   "source": []
  }
 ],
 "metadata": {
  "kernelspec": {
   "display_name": "Python 3 (ipykernel)",
   "language": "python",
   "name": "python3"
  },
  "language_info": {
   "codemirror_mode": {
    "name": "ipython",
    "version": 3
   },
   "file_extension": ".py",
   "mimetype": "text/x-python",
   "name": "python",
   "nbconvert_exporter": "python",
   "pygments_lexer": "ipython3",
   "version": "3.9.7"
  }
 },
 "nbformat": 4,
 "nbformat_minor": 5
}
